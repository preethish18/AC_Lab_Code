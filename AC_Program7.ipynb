{
 "cells": [
  {
   "cell_type": "code",
   "execution_count": 35,
   "id": "59b8a25f-c73b-4f88-8e4b-480ba4fdcb75",
   "metadata": {},
   "outputs": [
    {
     "name": "stdout",
     "output_type": "stream",
     "text": [
      "Plain Text: [1, 0, 1, 0, 0, 0, 1, 0]\n",
      "Cipher Text: [0, 1, 1, 0, 0, 0, 1, 1]\n",
      "Decrypted Text: [1, 0, 1, 0, 0, 0, 1, 0]\n"
     ]
    }
   ],
   "source": [
    "P10 = [3, 5, 2, 7, 4, 10, 1, 9, 8, 6]\n",
    "P8 = [6, 3, 7, 4, 8, 5, 10, 9]\n",
    "P4 = [2, 4, 3, 1]\n",
    "IP = [2, 6, 3, 1, 4, 8, 5, 7]\n",
    "IP_inv = [4, 1, 3, 5, 7, 2, 8, 6]\n",
    "EP = [4, 1, 2, 3, 2, 3, 4, 1]\n",
    "# S-boxes\n",
    "S0 = [\n",
    " [1, 0, 3, 2],\n",
    " [3, 2, 1, 0],\n",
    " [0, 2, 1, 3],\n",
    " [3, 1, 3, 2]\n",
    "]\n",
    "S1 = [\n",
    " [0, 1, 2, 3],\n",
    " [2, 0, 1, 3],\n",
    " [3, 0, 1, 0],\n",
    " [2, 1, 0, 3]\n",
    "]\n",
    "# Permutation function\n",
    "def permutate(table, block):\n",
    " return [block[x - 1] for x in table]\n",
    "# Left shift function\n",
    "def left_shift(block, n):\n",
    " return block[n:] + block[:n]\n",
    "# Key generation function\n",
    "def generate_keys(key):\n",
    " key = permutate(P10, key)\n",
    " left_half, right_half = key[:5], key[5:]\n",
    " left_half = left_shift(left_half, 1)\n",
    " right_half = left_shift(right_half, 1)\n",
    " k1 = permutate(P8, left_half + right_half)\n",
    " \n",
    " left_half = left_shift(left_half, 2)\n",
    " right_half = left_shift(right_half, 2)\n",
    " k2 = permutate(P8, left_half + right_half)\n",
    " \n",
    " return k1, k2\n",
    "# XOR function\n",
    "def xor(bits1, bits2):\n",
    " return [b1 ^ b2 for b1, b2 in zip(bits1, bits2)]\n",
    "# S-box lookup\n",
    "def sbox_lookup(box, bits):\n",
    " row = (bits[0] << 1) | bits[3]\n",
    " col = (bits[1] << 1) | bits[2]\n",
    " return [(box[row][col] >> 1) & 1, box[row][col] & 1]\n",
    "# Function F in S-DES\n",
    "def f(bits, key):\n",
    " bits = permutate(EP, bits)\n",
    " bits = xor(bits, key)\n",
    " \n",
    " left_bits = sbox_lookup(S0, bits[:4])\n",
    " right_bits = sbox_lookup(S1, bits[4:])\n",
    " \n",
    " return permutate(P4, left_bits + right_bits)\n",
    "# S-DES encryption function\n",
    "def sdes_encrypt(plain_text, key):\n",
    " k1, k2 = generate_keys(key)\n",
    " bits = permutate(IP, plain_text)\n",
    " left_bits, right_bits = bits[:4], bits[4:]\n",
    " \n",
    " result = xor(left_bits, f(right_bits, k1))\n",
    " result = right_bits + result\n",
    " \n",
    " left_bits, right_bits = result[:4], result[4:]\n",
    " result = xor(left_bits, f(right_bits, k2))\n",
    " \n",
    " return permutate(IP_inv, result + right_bits)\n",
    "# S-DES decryption function\n",
    "def sdes_decrypt(cipher_text, key):\n",
    " k1, k2 = generate_keys(key)\n",
    " bits = permutate(IP, cipher_text)\n",
    " left_bits, right_bits = bits[:4], bits[4:]\n",
    " \n",
    " result = xor(left_bits, f(right_bits, k2))\n",
    " result = right_bits + result\n",
    " \n",
    " left_bits, right_bits = result[:4], result[4:]\n",
    " result = xor(left_bits, f(right_bits, k1))\n",
    " \n",
    " return permutate(IP_inv, result + right_bits)\n",
    "# Input and Output Example\n",
    "key = [1, 0, 1, 0, 0, 0, 0, 0, 1, 0] # 10-bit key\n",
    "plain_text = [1, 0, 1, 0, 0, 0, 1, 0] # 8-bit plain text\n",
    "cipher_text = sdes_encrypt(plain_text, key)\n",
    "decrypted_text = sdes_decrypt(cipher_text, key)\n",
    "print(f\"Plain Text: {plain_text}\")\n",
    "print(f\"Cipher Text: {cipher_text}\")\n",
    "print(f\"Decrypted Text: {decrypted_text}\")"
   ]
  },
  {
   "cell_type": "code",
   "execution_count": 34,
   "id": "4bb1cd2d-919b-4c60-8baf-0f9e9f6d8ca6",
   "metadata": {},
   "outputs": [
    {
     "name": "stdout",
     "output_type": "stream",
     "text": [
      "Requirement already satisfied: pycryptodome in c:\\users\\preet\\appdata\\local\\programs\\python\\python312\\lib\\site-packages (3.21.0)\n"
     ]
    }
   ],
   "source": [
    "!pip install pycryptodome"
   ]
  },
  {
   "cell_type": "code",
   "execution_count": null,
   "id": "4220eb50-14a6-4724-b575-6e2d3466a9cb",
   "metadata": {},
   "outputs": [],
   "source": []
  }
 ],
 "metadata": {
  "kernelspec": {
   "display_name": "Python 3 (ipykernel)",
   "language": "python",
   "name": "python3"
  },
  "language_info": {
   "codemirror_mode": {
    "name": "ipython",
    "version": 3
   },
   "file_extension": ".py",
   "mimetype": "text/x-python",
   "name": "python",
   "nbconvert_exporter": "python",
   "pygments_lexer": "ipython3",
   "version": "3.12.6"
  }
 },
 "nbformat": 4,
 "nbformat_minor": 5
}
