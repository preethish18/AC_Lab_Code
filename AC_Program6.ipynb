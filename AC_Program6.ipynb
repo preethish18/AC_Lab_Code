{
 "cells": [
  {
   "cell_type": "code",
   "execution_count": 31,
   "id": "59b8a25f-c73b-4f88-8e4b-480ba4fdcb75",
   "metadata": {},
   "outputs": [
    {
     "ename": "ModuleNotFoundError",
     "evalue": "No module named 'Crypto'",
     "output_type": "error",
     "traceback": [
      "\u001b[1;31m---------------------------------------------------------------------------\u001b[0m",
      "\u001b[1;31mModuleNotFoundError\u001b[0m                       Traceback (most recent call last)",
      "Cell \u001b[1;32mIn[31], line 1\u001b[0m\n\u001b[1;32m----> 1\u001b[0m \u001b[38;5;28;01mfrom\u001b[39;00m \u001b[38;5;21;01mCrypto\u001b[39;00m\u001b[38;5;21;01m.\u001b[39;00m\u001b[38;5;21;01mCipher\u001b[39;00m \u001b[38;5;28;01mimport\u001b[39;00m AES\n\u001b[0;32m      2\u001b[0m \u001b[38;5;28;01mfrom\u001b[39;00m \u001b[38;5;21;01mCrypto\u001b[39;00m\u001b[38;5;21;01m.\u001b[39;00m\u001b[38;5;21;01mUtil\u001b[39;00m\u001b[38;5;21;01m.\u001b[39;00m\u001b[38;5;21;01mPadding\u001b[39;00m \u001b[38;5;28;01mimport\u001b[39;00m pad, unpad\n\u001b[0;32m      3\u001b[0m \u001b[38;5;28;01mfrom\u001b[39;00m \u001b[38;5;21;01mCrypto\u001b[39;00m\u001b[38;5;21;01m.\u001b[39;00m\u001b[38;5;21;01mRandom\u001b[39;00m \u001b[38;5;28;01mimport\u001b[39;00m get_random_bytes\n",
      "\u001b[1;31mModuleNotFoundError\u001b[0m: No module named 'Crypto'"
     ]
    }
   ],
   "source": [
    "from Crypto.Cipher import AES\n",
    "from Crypto.Util.Padding import pad, unpad\n",
    "from Crypto.Random import get_random_bytes\n",
    "\n",
    "# AES encryption function\n",
    "def encrypt_AES(plaintext, key):\n",
    "    cipher = AES.new(key, AES.MODE_CBC)  # Create a new AES cipher\n",
    "    ciphertext = cipher.encrypt(pad(plaintext.encode(), AES.block_size))  # Encrypt and pad the plaintext\n",
    "    return cipher.iv + ciphertext  # Return the IV + ciphertext\n",
    "\n",
    "# AES decryption function\n",
    "def decrypt_AES(ciphertext, key):\n",
    "    iv = ciphertext[:16]  # Extract the IV from the beginning\n",
    "    cipher = AES.new(key, AES.MODE_CBC, iv)  # Create a new AES cipher with the same IV\n",
    "    decrypted_text = unpad(cipher.decrypt(ciphertext[16:]), AES.block_size)  # Decrypt and unpad\n",
    "    return decrypted_text.decode()\n",
    "\n",
    "# Example usage\n",
    "key = get_random_bytes(16)  # Generate a random 16-byte key (128-bit key)\n",
    "plaintext = \"Hello, World!\"  # Your plaintext message\n",
    "ciphertext = encrypt_AES(plaintext, key)  # Encrypt the plaintext\n",
    "decrypted_text = decrypt_AES(ciphertext, key)  # Decrypt the ciphertext\n",
    "\n",
    "print(f\"Plaintext: {plaintext}\")\n",
    "print(f\"Key: {key.hex()}\")\n",
    "print(f\"Ciphertext (in hex): {ciphertext.hex()}\")\n",
    "print(f\"Decrypted Text: {decrypted_text}\")"
   ]
  },
  {
   "cell_type": "code",
   "execution_count": 32,
   "id": "4bb1cd2d-919b-4c60-8baf-0f9e9f6d8ca6",
   "metadata": {},
   "outputs": [
    {
     "name": "stdout",
     "output_type": "stream",
     "text": [
      "Collecting pycryptodome\n",
      "  Downloading pycryptodome-3.21.0-cp36-abi3-win_amd64.whl.metadata (3.4 kB)\n",
      "Downloading pycryptodome-3.21.0-cp36-abi3-win_amd64.whl (1.8 MB)\n",
      "   ---------------------------------------- 0.0/1.8 MB ? eta -:--:--\n",
      "   ---------------------------------------- 1.8/1.8 MB 14.1 MB/s eta 0:00:00\n",
      "Installing collected packages: pycryptodome\n",
      "Successfully installed pycryptodome-3.21.0\n"
     ]
    }
   ],
   "source": [
    "!pip install pycryptodome"
   ]
  },
  {
   "cell_type": "code",
   "execution_count": null,
   "id": "4220eb50-14a6-4724-b575-6e2d3466a9cb",
   "metadata": {},
   "outputs": [],
   "source": []
  }
 ],
 "metadata": {
  "kernelspec": {
   "display_name": "Python 3 (ipykernel)",
   "language": "python",
   "name": "python3"
  },
  "language_info": {
   "codemirror_mode": {
    "name": "ipython",
    "version": 3
   },
   "file_extension": ".py",
   "mimetype": "text/x-python",
   "name": "python",
   "nbconvert_exporter": "python",
   "pygments_lexer": "ipython3",
   "version": "3.12.6"
  }
 },
 "nbformat": 4,
 "nbformat_minor": 5
}
