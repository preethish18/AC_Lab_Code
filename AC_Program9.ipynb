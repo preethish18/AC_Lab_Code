{
 "cells": [
  {
   "cell_type": "code",
   "execution_count": 41,
   "id": "59b8a25f-c73b-4f88-8e4b-480ba4fdcb75",
   "metadata": {},
   "outputs": [
    {
     "name": "stdout",
     "output_type": "stream",
     "text": [
      "Plaintext: b'Hello'\n",
      "Ciphertext (in hex): fa5c0f699f\n",
      "Decrypted: Hello\n"
     ]
    }
   ],
   "source": [
    "def rc4(key, plaintext):\n",
    "    # Key-Scheduling Algorithm (KSA)\n",
    "    S = list(range(256))\n",
    "    j = 0\n",
    "    key_length = len(key)\n",
    "    \n",
    "    for i in range(256):\n",
    "        j = (j + S[i] + key[i % key_length]) % 256\n",
    "        S[i], S[j] = S[j], S[i]\n",
    "\n",
    "    # Pseudo-Random Generation Algorithm (PRGA)\n",
    "    i = 0\n",
    "    j = 0\n",
    "    keystream = []\n",
    "\n",
    "    for char in plaintext:\n",
    "        i = (i + 1) % 256\n",
    "        j = (j + S[i]) % 256\n",
    "        S[i], S[j] = S[j], S[i]\n",
    "        keystream.append(S[(S[i] + S[j]) % 256])\n",
    "\n",
    "    # XOR the keystream with the plaintext to produce the ciphertext\n",
    "    ciphertext = bytes([char ^ ks for char, ks in zip(plaintext, keystream)])\n",
    "    return ciphertext\n",
    "\n",
    "# Example Input and Output\n",
    "key = bytes([1, 2, 3, 4, 5])  # Example key (bytes)\n",
    "plaintext = b'Hello'  # Example plaintext (bytes)\n",
    "ciphertext = rc4(key, plaintext)\n",
    "print(f\"Plaintext: {plaintext}\")\n",
    "print(f\"Ciphertext (in hex): {ciphertext.hex()}\")\n",
    "\n",
    "# To decrypt, run the ciphertext through the same RC4 function with the same key\n",
    "decrypted_text = rc4(key, ciphertext)\n",
    "print(f\"Decrypted: {decrypted_text.decode()}\")"
   ]
  },
  {
   "cell_type": "code",
   "execution_count": 34,
   "id": "4bb1cd2d-919b-4c60-8baf-0f9e9f6d8ca6",
   "metadata": {},
   "outputs": [
    {
     "name": "stdout",
     "output_type": "stream",
     "text": [
      "Requirement already satisfied: pycryptodome in c:\\users\\preet\\appdata\\local\\programs\\python\\python312\\lib\\site-packages (3.21.0)\n"
     ]
    }
   ],
   "source": [
    "!pip install pycryptodome"
   ]
  },
  {
   "cell_type": "code",
   "execution_count": null,
   "id": "4220eb50-14a6-4724-b575-6e2d3466a9cb",
   "metadata": {},
   "outputs": [],
   "source": []
  }
 ],
 "metadata": {
  "kernelspec": {
   "display_name": "Python 3 (ipykernel)",
   "language": "python",
   "name": "python3"
  },
  "language_info": {
   "codemirror_mode": {
    "name": "ipython",
    "version": 3
   },
   "file_extension": ".py",
   "mimetype": "text/x-python",
   "name": "python",
   "nbconvert_exporter": "python",
   "pygments_lexer": "ipython3",
   "version": "3.12.6"
  }
 },
 "nbformat": 4,
 "nbformat_minor": 5
}
