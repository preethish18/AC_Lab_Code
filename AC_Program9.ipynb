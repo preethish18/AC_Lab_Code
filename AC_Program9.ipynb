{
 "cells": [
  {
   "cell_type": "code",
   "execution_count": 2,
   "id": "ab296499-86b1-4d0c-9380-e21105b0b4a1",
   "metadata": {},
   "outputs": [
    {
     "name": "stdout",
     "output_type": "stream",
     "text": [
      "Publicly shared values:\n",
      "Prime number (p): 23\n",
      "Primitive root (g): 5\n",
      "\n",
      "Alice's private key: 8\n",
      "Alice's public key: 16\n",
      "\n",
      "Bob's private key: 9\n",
      "Bob's public key: 11\n",
      "\n",
      "Shared secret computed by Alice: 8\n",
      "Shared secret computed by Bob: 8\n",
      "\n",
      "The shared secret is the same for both Alice and Bob!\n"
     ]
    }
   ],
   "source": [
    "# Program9\n",
    "import random\n",
    "# Function to perform modular exponentiation\n",
    "def mod_exp(base, exp, mod):\n",
    " return pow(base, exp, mod)\n",
    "# Step 1: Agree on public values (Prime number p and base g)\n",
    "p = 23 # A prime number\n",
    "g = 5 # A primitive root modulo p\n",
    "print(\"Publicly shared values:\")\n",
    "print(\"Prime number (p):\", p)\n",
    "print(\"Primitive root (g):\", g)\n",
    "# Step 2: Alice chooses a secret key\n",
    "alice_private_key = random.randint(1, p-1)\n",
    "print(\"\\nAlice's private key:\", alice_private_key)\n",
    "# Alice computes her public key\n",
    "alice_public_key = mod_exp(g, alice_private_key, p)\n",
    "print(\"Alice's public key:\", alice_public_key)\n",
    "# Step 3: Bob chooses a secret key\n",
    "bob_private_key = random.randint(1, p-1)\n",
    "print(\"\\nBob's private key:\", bob_private_key)\n",
    "# Bob computes his public key\n",
    "bob_public_key = mod_exp(g, bob_private_key, p)\n",
    "print(\"Bob's public key:\", bob_public_key)\n",
    "# Step 4: Exchange of public keys\n",
    "# Step 5: Both parties compute the shared secret\n",
    "alice_shared_secret = mod_exp(bob_public_key, alice_private_key, p)\n",
    "bob_shared_secret = mod_exp(alice_public_key, bob_private_key, p)\n",
    "print(\"\\nShared secret computed by Alice:\", alice_shared_secret)\n",
    "print(\"Shared secret computed by Bob:\", bob_shared_secret)\n",
    "# The shared secrets should be the same\n",
    "if alice_shared_secret == bob_shared_secret:\n",
    " print(\"\\nThe shared secret is the same for both Alice and Bob!\")\n",
    "else:\n",
    " print(\"\\nError: The shared secrets do not match!\")"
   ]
  },
  {
   "cell_type": "code",
   "execution_count": null,
   "id": "9027d983-4415-4788-b290-ed9326c698d2",
   "metadata": {},
   "outputs": [],
   "source": []
  }
 ],
 "metadata": {
  "kernelspec": {
   "display_name": "Python 3 (ipykernel)",
   "language": "python",
   "name": "python3"
  },
  "language_info": {
   "codemirror_mode": {
    "name": "ipython",
    "version": 3
   },
   "file_extension": ".py",
   "mimetype": "text/x-python",
   "name": "python",
   "nbconvert_exporter": "python",
   "pygments_lexer": "ipython3",
   "version": "3.12.6"
  }
 },
 "nbformat": 4,
 "nbformat_minor": 5
}
