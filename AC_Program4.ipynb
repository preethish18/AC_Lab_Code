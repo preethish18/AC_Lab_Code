{
 "cells": [
  {
   "cell_type": "code",
   "execution_count": 25,
   "id": "59b8a25f-c73b-4f88-8e4b-480ba4fdcb75",
   "metadata": {},
   "outputs": [
    {
     "name": "stdout",
     "output_type": "stream",
     "text": [
      "Generated Key: DECEPTIVEDE\n",
      "Encrypted Message (Cipher Text): KIAIKXZTSQI\n",
      "Decrypted Message (Plain Text): HEYEVERYONE\n"
     ]
    }
   ],
   "source": [
    "# Function to generate the key in a cyclic manner until its length is equal to the plaintext\n",
    "def generate_key(plaintext, keyword):\n",
    "    keyword = list(keyword)\n",
    "    if len(plaintext) == len(keyword):\n",
    "        return \"\".join(keyword)\n",
    "    else:\n",
    "        for i in range(len(plaintext) - len(keyword)):\n",
    "            keyword.append(keyword[i % len(keyword)])\n",
    "    return \"\".join(keyword)\n",
    "\n",
    "# Function to encrypt the plaintext using the Vigenère Cipher\n",
    "def vigenere_encrypt(plaintext, key):\n",
    "    cipher_text = []\n",
    "    for i in range(len(plaintext)):\n",
    "        x = (ord(plaintext[i]) + ord(key[i])) % 26\n",
    "        x += ord('A')\n",
    "        cipher_text.append(chr(x))\n",
    "    return \"\".join(cipher_text)\n",
    "\n",
    "# Function to decrypt the ciphertext using the Vigenère Cipher\n",
    "def vigenere_decrypt(cipher_text, key):\n",
    "    original_text = []\n",
    "    for i in range(len(cipher_text)):\n",
    "        x = (ord(cipher_text[i]) - ord(key[i]) + 26) % 26\n",
    "        x += ord('A')\n",
    "        original_text.append(chr(x))\n",
    "    return \"\".join(original_text)\n",
    "\n",
    "# Example usage\n",
    "plaintext = \"HeyEveryone\".upper()\n",
    "keyword = \"DECEPTIVE\".upper()\n",
    "\n",
    "# Generate the key\n",
    "key = generate_key(plaintext, keyword)\n",
    "print(\"Generated Key:\", key)\n",
    "\n",
    "# Encryption process\n",
    "cipher_text = vigenere_encrypt(plaintext, key)\n",
    "print(\"Encrypted Message (Cipher Text):\", cipher_text)\n",
    "\n",
    "# Decryption process\n",
    "decrypted_text = vigenere_decrypt(cipher_text, key)\n",
    "print(\"Decrypted Message (Plain Text):\", decrypted_text)"
   ]
  },
  {
   "cell_type": "code",
   "execution_count": null,
   "id": "4bb1cd2d-919b-4c60-8baf-0f9e9f6d8ca6",
   "metadata": {},
   "outputs": [],
   "source": []
  }
 ],
 "metadata": {
  "kernelspec": {
   "display_name": "Python 3 (ipykernel)",
   "language": "python",
   "name": "python3"
  },
  "language_info": {
   "codemirror_mode": {
    "name": "ipython",
    "version": 3
   },
   "file_extension": ".py",
   "mimetype": "text/x-python",
   "name": "python",
   "nbconvert_exporter": "python",
   "pygments_lexer": "ipython3",
   "version": "3.12.6"
  }
 },
 "nbformat": 4,
 "nbformat_minor": 5
}
