{
 "cells": [
  {
   "cell_type": "code",
   "execution_count": 1,
   "id": "87d308e4-9b3d-4445-a3a0-7a6897ed7ff6",
   "metadata": {},
   "outputs": [
    {
     "name": "stdout",
     "output_type": "stream",
     "text": [
      "The GCD of 252 and 105 is: 21\n"
     ]
    }
   ],
   "source": [
    "#Program4\n",
    "# Function to compute the GCD of two integers using the Euclidean Algorithm\n",
    "def gcd_integers(a, b):\n",
    "    while b != 0:\n",
    "        a, b = b, a % b\n",
    "    return a\n",
    "\n",
    "# Example usage\n",
    "a = 252\n",
    "b = 105\n",
    "gcd_result = gcd_integers(a, b)\n",
    "print(f\"The GCD of {a} and {b} is: {gcd_result}\")"
   ]
  },
  {
   "cell_type": "code",
   "execution_count": null,
   "id": "4206e0ec-9065-4dee-91bf-355edff68675",
   "metadata": {},
   "outputs": [],
   "source": []
  }
 ],
 "metadata": {
  "kernelspec": {
   "display_name": "Python 3 (ipykernel)",
   "language": "python",
   "name": "python3"
  },
  "language_info": {
   "codemirror_mode": {
    "name": "ipython",
    "version": 3
   },
   "file_extension": ".py",
   "mimetype": "text/x-python",
   "name": "python",
   "nbconvert_exporter": "python",
   "pygments_lexer": "ipython3",
   "version": "3.12.6"
  }
 },
 "nbformat": 4,
 "nbformat_minor": 5
}
