{
 "cells": [
  {
   "cell_type": "code",
   "execution_count": 2,
   "id": "661817ff-06ef-48cf-8fda-6c022ec833f1",
   "metadata": {},
   "outputs": [
    {
     "name": "stdout",
     "output_type": "stream",
     "text": [
      "GCD of integers 56 and 98 is: 14\n",
      "GCD of polynomials [1, -3, 2] and [1, -1] is: [1.0, -1.0]\n"
     ]
    }
   ],
   "source": [
    "import numpy as np\n",
    "\n",
    "def gcd_integers(a, b):\n",
    "    \"\"\"\n",
    "    Computes the Greatest Common Divisor (GCD) of two integers using the Euclidean Algorithm.\n",
    "    \n",
    "    :param a: First integer\n",
    "    :param b: Second integer\n",
    "    :return: GCD of a and b\n",
    "    \"\"\"\n",
    "    while b != 0:\n",
    "        a, b = b, a % b\n",
    "    return abs(a)\n",
    "\n",
    "def gcd_polynomials(p, q):\n",
    "    \"\"\"\n",
    "    Computes the Greatest Common Divisor (GCD) of two polynomials using the Euclidean Algorithm.\n",
    "    \n",
    "    :param p: First polynomial (list of coefficients)\n",
    "    :param q: Second polynomial (list of coefficients)\n",
    "    :return: GCD of p and q (list of coefficients)\n",
    "    \"\"\"\n",
    "    p = np.poly1d(p)\n",
    "    q = np.poly1d(q)\n",
    "    \n",
    "    while q.order >= 0 and not np.allclose(q.coeffs, 0):\n",
    "        _, r = np.polydiv(p, q)  # Perform polynomial division\n",
    "        p, q = q, r  # Update p and q\n",
    "    \n",
    "    # Normalize GCD to have leading coefficient of 1 (if possible)\n",
    "    leading_coefficient = p.coeffs[0]\n",
    "    if leading_coefficient != 0:\n",
    "        gcd_coeff = p.coeffs / leading_coefficient\n",
    "    else:\n",
    "        gcd_coeff = p.coeffs  # In case the polynomial is zero\n",
    "    \n",
    "    return gcd_coeff.tolist()\n",
    "\n",
    "def gcd(a, b):\n",
    "    \"\"\"\n",
    "    Computes the GCD of two inputs, integers or polynomials.\n",
    "    \n",
    "    :param a: First input (integer or list of coefficients for polynomials)\n",
    "    :param b: Second input (integer or list of coefficients for polynomials)\n",
    "    :return: GCD of a and b\n",
    "    \"\"\"\n",
    "    if isinstance(a, int) and isinstance(b, int):\n",
    "        return gcd_integers(a, b)\n",
    "    elif isinstance(a, list) and isinstance(b, list):\n",
    "        return gcd_polynomials(a, b)\n",
    "    else:\n",
    "        raise ValueError(\"Both inputs must be integers or both must be lists of polynomial coefficients.\")\n",
    "\n",
    "# Example usage for integers\n",
    "a = 56\n",
    "b = 98\n",
    "print(f\"GCD of integers {a} and {b} is: {gcd(a, b)}\")\n",
    "\n",
    "# Example usage for polynomials\n",
    "# Polynomials represented as lists of coefficients, e.g., x^2 + 2x + 1 is [1, 2, 1]\n",
    "poly1 = [1, -3, 2]  # x^2 - 3x + 2\n",
    "poly2 = [1, -1]     # x - 1\n",
    "print(f\"GCD of polynomials {poly1} and {poly2} is: {gcd(poly1, poly2)}\")"
   ]
  },
  {
   "cell_type": "code",
   "execution_count": null,
   "id": "65ae400a-ad79-4600-a6bd-21db7c8257bf",
   "metadata": {},
   "outputs": [],
   "source": []
  }
 ],
 "metadata": {
  "kernelspec": {
   "display_name": "Python 3 (ipykernel)",
   "language": "python",
   "name": "python3"
  },
  "language_info": {
   "codemirror_mode": {
    "name": "ipython",
    "version": 3
   },
   "file_extension": ".py",
   "mimetype": "text/x-python",
   "name": "python",
   "nbconvert_exporter": "python",
   "pygments_lexer": "ipython3",
   "version": "3.12.6"
  }
 },
 "nbformat": 4,
 "nbformat_minor": 5
}
